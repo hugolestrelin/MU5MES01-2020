{
 "cells": [
  {
   "source": [
    "# Clamped beam vibrations"
   ],
   "cell_type": "markdown",
   "metadata": {}
  },
  {
   "cell_type": "markdown",
   "metadata": {},
   "source": [
    "In this notebook, we study the vibation of a cantilever beam with the Newmark method. The present implementation is derived from the implementation of the Newmark-β time-stepping technique shown here [Jérémy Bleyer's code](https://comet-fenics.readthedocs.io/en/latest/demo/elastodynamics/demo_elastodynamics.py.html). \n",
    "\n",
    "We consider a cantilever beam of size `Lx × Ly` (2D, plane stress), fixed at its `x = 0` end. The beam is first subjected to a transversal load at `x = Lx` for a short duration, then the load is cleared and free vibration dynamics are computed. "
   ]
  },
  {
   "source": [
    "![le schema](./newmark-vibrations.png)"
   ],
   "cell_type": "markdown",
   "metadata": {}
  },
  {
   "cell_type": "markdown",
   "metadata": {},
   "source": [
    "## Parameters of the Newmark-β method are $\\beta$ and $\\gamma$.\n",
    "\n",
    "Depending on the choice of parameters $\\beta$ and $\\gamma$, the Newmark method may be  unconditionaly stable, conditionaly stable, or unconditionaly unstable:\n",
    "\n",
    "![](newmark_stability_zones.png)"
   ]
  },
  {
   "source": [
    "# Questions\n",
    "\n",
    "Here, we do not consider any physical disspation (eta_m=0, eta_k=0).\n",
    "\n",
    "1 - Write up a python function that perfoms time integration of the system and exports xdmf files to be open with Paraview. The function will take inputs such as Young's modulus, size of the system, time-step, etc.\n",
    "\n",
    "2 - Show a case (i.e. parameter values) where the time integration is numerically stable even though the Courant condition is not verified\n",
    "\n",
    "3 - Show a case where the time integration is numerically stable only if the Courant condition is verified\n",
    "\n",
    "4 - Show a case where the time integration is numerically unstable even if the Courant condition is verified\n",
    "\n",
    "5 - In your python function of Question 1, compare the time taken by the computer to (i) solve the linear algebra system at each time step, (ii) write the output files, (iii) execute the rest of the (time-step) loop. Where does the compute spend most time? Which dolfin function is time-consuming? Does this change with parameters?\n",
    "\n",
    "6 - We set E=1000, nu=0.3, Lx=1, Ly=0.1, rho=1. What is the period of the oscillations? How does this period change if we (i) divide Lx by 2? (ii) multiply Lx by 2?\n",
    "\n",
    "7 - We did not put any physical dissipation in the model. In the range of $(\\beta,\\gamma)$ parameters for which the time integration is numerically stable, give $(\\beta,\\gamma)$ values for which the time integration keeps the total energy constant.\n"
   ],
   "cell_type": "markdown",
   "metadata": {}
  },
  {
   "cell_type": "code",
   "execution_count": 6,
   "metadata": {},
   "outputs": [],
   "source": [
    "import dolfin\n",
    "import numpy as np\n",
    "import matplotlib.pyplot as plt\n",
    "import time\n",
    "dolfin.parameters[\"form_compiler\"][\"cpp_optimize\"] = True\n",
    "dolfin.parameters[\"form_compiler\"][\"optimize\"] = True"
   ]
  },
  {
   "cell_type": "code",
   "execution_count": 7,
   "metadata": {},
   "outputs": [],
   "source": [
    "def local_project(mesh, v, V, u=None):\n",
    "    \"\"\"Element-wise projection using LocalSolver\"\"\"\n",
    "    dv = dolfin.TrialFunction(V)\n",
    "    v_ = dolfin.TestFunction(V)\n",
    "    dx = dolfin.dx(domain=mesh)\n",
    "    a_proj = dolfin.inner(dv, v_)*dx\n",
    "    b_proj = dolfin.inner(v, v_)*dx\n",
    "    solver = dolfin.LocalSolver(a_proj, b_proj)\n",
    "    solver.factorize()\n",
    "    if u is None:\n",
    "        u = dolfin.Function(V)\n",
    "        solver.solve_local_rhs(u)\n",
    "        return u\n",
    "    else:\n",
    "        solver.solve_local_rhs(u)\n",
    "        return"
   ]
  },
  {
   "cell_type": "markdown",
   "metadata": {},
   "source": [
    "## All-in-one function that integrate the flexural dynamics of the beam"
   ]
  },
  {
   "cell_type": "code",
   "execution_count": 1,
   "metadata": {},
   "outputs": [],
   "source": [
    "def integrate_dynamics(export=0, beta=0.25, gamma=0.5, nbr_steps=100, tfinal=4, E=1000., nu=0.3, rho=1., Lx=1, Ly=0.1, Ny=4, info=1):\n",
    "    \n",
    "    eta_m=0.0\n",
    "    eta_k=0.0\n",
    "    \n",
    "    x\n",
    "    x\n",
    "    x\n",
    "    \n",
    "\n",
    "    return [xxx, xxx, xxx]"
   ]
  },
  {
   "cell_type": "code",
   "execution_count": null,
   "metadata": {},
   "outputs": [],
   "source": []
  },
  {
   "cell_type": "code",
   "execution_count": null,
   "metadata": {},
   "outputs": [],
   "source": []
  }
 ],
 "metadata": {
  "kernelspec": {
   "display_name": "Python 3",
   "language": "python",
   "name": "python3"
  },
  "language_info": {
   "codemirror_mode": {
    "name": "ipython",
    "version": 3
   },
   "file_extension": ".py",
   "mimetype": "text/x-python",
   "name": "python",
   "nbconvert_exporter": "python",
   "pygments_lexer": "ipython3",
   "version": "3.7.3-final"
  }
 },
 "nbformat": 4,
 "nbformat_minor": 4
}