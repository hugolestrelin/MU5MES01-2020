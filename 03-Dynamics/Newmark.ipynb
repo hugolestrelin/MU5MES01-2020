{
 "cells": [
  {
   "cell_type": "markdown",
   "metadata": {},
   "source": [
    "# Implementation of the Newmark-β time-stepping"
   ]
  },
  {
   "cell_type": "markdown",
   "metadata": {},
   "source": [
    "In this notebook, we present an alternative imlementation of the Newmark-β time-stepping technique that was previously introduced through [Jérémy Bleyer's code](https://comet-fenics.readthedocs.io/en/latest/demo/elastodynamics/demo_elastodynamics.py.html). We adopt here an approach that is more “matrix-oriented”: `FEniCS` is used to assemble the matrices of the problem, discretized in space. Once these matrices are assembled, we write the various linear algebra operations explicitly.\n",
    "\n",
    "We will explore various versions of the Newmark method, including the so-called “explicit” version.\n",
    "\n",
    "We consider a cantilever beam of size `Lx × Ly` (2D, plane stress) or `Lx × Ly × Lz` (3D), fixed at its `x = 0` end, and subjected to a uniform traction at `x = Lx`. The direction of the traction can be adapted (see parameter `T_dir` below)."
   ]
  },
  {
   "cell_type": "markdown",
   "metadata": {},
   "source": [
    "**Note:** when you first run this notebook, you will get *many* error messages caused by `raise RuntimeException()` statements. You need to replace each of these statements with the correct code for the simulation to run."
   ]
  },
  {
   "cell_type": "code",
   "execution_count": null,
   "metadata": {},
   "outputs": [],
   "source": [
    "import dolfin\n",
    "import numpy as np\n",
    "import matplotlib.pyplot as plt\n",
    "import time\n",
    "import warnings\n",
    "\n",
    "# Show all warnings, multiple times if necessary\n",
    "warnings.filterwarnings(\"default\")\n",
    "\n",
    "dolfin.parameters[\"form_compiler\"][\"cpp_optimize\"] = True\n",
    "dolfin.parameters[\"form_compiler\"][\"optimize\"] = True"
   ]
  },
  {
   "cell_type": "markdown",
   "metadata": {},
   "source": [
    "## Parameters of the simulation"
   ]
  },
  {
   "cell_type": "markdown",
   "metadata": {},
   "source": [
    "Except otherwise explicitly stated, code outside the present section need not be modified."
   ]
  },
  {
   "cell_type": "markdown",
   "metadata": {},
   "source": [
    "### Geometry"
   ]
  },
  {
   "cell_type": "code",
   "execution_count": null,
   "metadata": {},
   "outputs": [],
   "source": [
    "dim = 2 # Number of spatial dimensions\n",
    "\n",
    "Lx = 1.0\n",
    "Ly = 0.1\n",
    "Lz = 0.04 # This is used only if dim == 3\n",
    "\n",
    "Ny = 10 # Number of elements in the y-direction"
   ]
  },
  {
   "cell_type": "markdown",
   "metadata": {},
   "source": [
    "### Material parameters"
   ]
  },
  {
   "cell_type": "code",
   "execution_count": null,
   "metadata": {},
   "outputs": [],
   "source": [
    "E  = 1000.\n",
    "nu = 0.3\n",
    "rho = dolfin.Constant(1.)\n",
    "eta_m = dolfin.Constant(0.)\n",
    "eta_k = dolfin.Constant(0.)"
   ]
  },
  {
   "cell_type": "markdown",
   "metadata": {},
   "source": [
    "### Loading parameters"
   ]
  },
  {
   "cell_type": "markdown",
   "metadata": {},
   "source": [
    "A time-dependent traction is applied at the $x = L_x$ face as follows\n",
    "\\begin{equation}\n",
    "\\vec T = \\begin{cases}\n",
    "\\displaystyle\\frac{t}{t_{\\mathrm{c}}}\\vec T_{\\mathrm{max}} & t \\leq t_{\\mathrm{c}}\\\\[.2em]\n",
    "\\vec 0 & t > t_{\\mathrm{c}}\n",
    "\\end{cases}\n",
    "\\end{equation}"
   ]
  },
  {
   "cell_type": "markdown",
   "metadata": {},
   "source": [
    "where $t_{\\mathrm{c}}$ is a “cut-off” time. Note that depending on the direction of the applied traction, we will need to select different values for `t_c` and `T_max`."
   ]
  },
  {
   "cell_type": "code",
   "execution_count": null,
   "metadata": {},
   "outputs": [],
   "source": [
    "t_c = 0.1\n",
    "T_dir = 1  # Direction of the applied traction: x → 0, y → 1, z → 2\n",
    "T_max = 1."
   ]
  },
  {
   "cell_type": "markdown",
   "metadata": {},
   "source": [
    "### Discretization parameters"
   ]
  },
  {
   "cell_type": "code",
   "execution_count": null,
   "metadata": {},
   "outputs": [],
   "source": [
    "t_end = 4. # End of simulation\n",
    "num_steps  = 100 # Total number of steps"
   ]
  },
  {
   "cell_type": "markdown",
   "metadata": {},
   "source": [
    "Parameters of the Newmark-β method."
   ]
  },
  {
   "cell_type": "code",
   "execution_count": null,
   "metadata": {},
   "outputs": [],
   "source": [
    "beta = 0.\n",
    "gamma = 0.5\n",
    "\n",
    "gamma = 0.5\n",
    "beta = 0.5*gamma"
   ]
  },
  {
   "cell_type": "markdown",
   "metadata": {},
   "source": [
    "Set this flag to `true` if you want to use a “lumped” mass matrix, which is diagonal. Should only be used in the case of the “explicit” (centered-differences) version of the scheme."
   ]
  },
  {
   "cell_type": "code",
   "execution_count": null,
   "metadata": {},
   "outputs": [],
   "source": [
    "use_lumped_mass = False"
   ]
  },
  {
   "cell_type": "markdown",
   "metadata": {},
   "source": [
    "## Validation of inputs"
   ]
  },
  {
   "cell_type": "markdown",
   "metadata": {},
   "source": [
    "### Validation of the `use_lumped_mass` flag"
   ]
  },
  {
   "cell_type": "code",
   "execution_count": null,
   "metadata": {},
   "outputs": [],
   "source": [
    "beta_exp = np.inf; raise RuntimeError(\"insert expected value of β\")\n",
    "gamma_exp = np.inf; raise RuntimeError(\"insert expected value of γ\")\n",
    "\n",
    "atol = 1e-12\n",
    "\n",
    "test_beta = abs(float(beta)-beta_exp) < atol\n",
    "test_gamma = abs(float(gamma)-gamma_exp) < atol\n",
    "if use_lumped_mass and not (test_beta and test_gamma):\n",
    "    raise RuntimeError(\"cannot use lumped mass in this case\")"
   ]
  },
  {
   "cell_type": "markdown",
   "metadata": {},
   "source": [
    "**Question:** insert in the cell above the expected values of β and γ.\n",
    "\n",
    "**Question:** why did we specify an *absolute* tolerance only?"
   ]
  },
  {
   "cell_type": "markdown",
   "metadata": {},
   "source": [
    "## Mesh generation"
   ]
  },
  {
   "cell_type": "code",
   "execution_count": null,
   "metadata": {},
   "outputs": [],
   "source": [
    "p1 = dolfin.Point(0., 0., 0.)\n",
    "p2 = dolfin.Point(1.0, 0.1, 0.04)\n",
    "\n",
    "Nx = int(Ny*Lx/Ly)\n",
    "\n",
    "if dim == 2:\n",
    "    mesh = dolfin.RectangleMesh(p1, p2, Nx, Ny)\n",
    "elif dim == 3:\n",
    "    Nz = int(Ny*Lz/Ly)\n",
    "    mesh = dolfin.BoxMesh(p1, p2, Nx, Ny, Nz)\n",
    "else:\n",
    "    raise ValueError(\"dim must be 2 or 3 (was {})\".format(dim))"
   ]
  },
  {
   "cell_type": "code",
   "execution_count": null,
   "metadata": {},
   "outputs": [],
   "source": [
    "dolfin.plot(mesh)"
   ]
  },
  {
   "cell_type": "code",
   "execution_count": null,
   "metadata": {},
   "outputs": [],
   "source": [
    "left = dolfin.CompiledSubDomain(\"on_boundary && near(x[0],0)\")\n",
    "right = dolfin.CompiledSubDomain(\"on_boundary && near(x[0], L)\", L=p2.x())\n",
    "top = dolfin.CompiledSubDomain(\"on_boundary && near(x[1], H)\", H=p2.y())\n",
    "bottom = dolfin.CompiledSubDomain(\"on_boundary && near(x[1], 0)\")\n",
    "\n",
    "boundary_indices = {\"left\": 0, \"right\": 1, \"top\": 2, \"bottom\": 3}\n",
    "boundary_markers = dolfin.MeshFunction(\"size_t\", mesh, dim=1, value=0)\n",
    "left.mark(boundary_markers, boundary_indices[\"left\"])\n",
    "right.mark(boundary_markers, boundary_indices[\"right\"])\n",
    "right.mark(boundary_markers, boundary_indices[\"right\"])\n",
    "top.mark(boundary_markers, boundary_indices[\"top\"])\n",
    "bottom.mark(boundary_markers, boundary_indices[\"bottom\"])\n",
    "\n",
    "ds = dolfin.ds(domain=mesh, subdomain_data=boundary_markers)\n",
    "dx = dolfin.dx(domain=mesh)"
   ]
  },
  {
   "cell_type": "markdown",
   "metadata": {},
   "source": [
    "### Validation of time-step"
   ]
  },
  {
   "cell_type": "markdown",
   "metadata": {},
   "source": [
    "**Question**: in the cell below, compute the critical time step $\\Delta t_{\\mathrm{crit}}$ (see p. 41 in [the slides](https://github.com/msolides2020/MU5MES01-2020/blob/master/03-Dynamics/cours_dynamique.pdf)).\n",
    "\n",
    "**Hint**: use the command [`mesh.rmin()`](https://fenicsproject.org/olddocs/dolfin/latest/cpp/da/dfc/classdolfin_1_1Mesh.html#a6ddfafebe68a370a5555a370fdbcdbbd)."
   ]
  },
  {
   "cell_type": "code",
   "execution_count": null,
   "metadata": {},
   "outputs": [],
   "source": [
    "dt = t_end/num_steps\n",
    "\n",
    "raise RuntimeError(\"implement formula for Δt_crit\")\n",
    "dt_crit = np.inf"
   ]
  },
  {
   "cell_type": "code",
   "execution_count": null,
   "metadata": {},
   "outputs": [],
   "source": [
    "if dt > dt_crit:\n",
    "    warnings.warn(\"simulation might be unstable\")"
   ]
  },
  {
   "cell_type": "markdown",
   "metadata": {},
   "source": [
    "**Question:** is this warning always necessary? Modify the above test accordingly."
   ]
  },
  {
   "cell_type": "markdown",
   "metadata": {},
   "source": [
    "## Space discretization"
   ]
  },
  {
   "cell_type": "code",
   "execution_count": null,
   "metadata": {},
   "outputs": [],
   "source": [
    "V = dolfin.VectorFunctionSpace(mesh, \"CG\", 1)\n",
    "Vsig = dolfin.TensorFunctionSpace(mesh, \"DG\", 0)"
   ]
  },
  {
   "cell_type": "code",
   "execution_count": null,
   "metadata": {},
   "outputs": [],
   "source": [
    "zero = dolfin.Constant(dim*(0.,))\n",
    "bcs = [dolfin.DirichletBC(V, zero, left)]\n",
    "\n",
    "if T_dir == 0:\n",
    "    bcs += [dolfin.DirichletBC(V.sub(1), 0, top),\n",
    "            dolfin.DirichletBC(V.sub(1), 0, bottom)]"
   ]
  },
  {
   "cell_type": "markdown",
   "metadata": {},
   "source": [
    "**Question**: comment on the additional boundary conditions when `T_dir == 0`. Why are these boundary conditions not applied for `T_dir == 1`?"
   ]
  },
  {
   "cell_type": "code",
   "execution_count": null,
   "metadata": {},
   "outputs": [],
   "source": [
    "mu = dolfin.Constant(E/(2.*(1.+nu)))\n",
    "lambda_ = dolfin.Constant(E*nu/((1.+nu)*(1.-2.*nu)))\n",
    "if dim == 2:\n",
    "    lambda_ = 2*lambda_*mu/(lambda_+2*mu)"
   ]
  },
  {
   "cell_type": "code",
   "execution_count": null,
   "metadata": {},
   "outputs": [],
   "source": [
    "expr = dim*[\"0\",]\n",
    "expr[T_dir] = \"t <= t_c ? T_max*t/t_c : 0\"\n",
    "\n",
    "traction = dolfin.Expression(expr, t=0, t_c=t_c, T_max=T_max, degree=0)"
   ]
  },
  {
   "cell_type": "markdown",
   "metadata": {},
   "source": [
    "**Question:** why did we specify `degree=0` in the above `dolfin.Expression`?"
   ]
  },
  {
   "cell_type": "code",
   "execution_count": null,
   "metadata": {},
   "outputs": [],
   "source": [
    "def local_project(v, V, u=None):\n",
    "    \"\"\"Element-wise projection using LocalSolver\"\"\"\n",
    "    dv = dolfin.TrialFunction(V)\n",
    "    v_ = dolfin.TestFunction(V)\n",
    "    a_proj = dolfin.inner(dv, v_)*dx\n",
    "    b_proj = dolfin.inner(v, v_)*dx\n",
    "    solver = dolfin.LocalSolver(a_proj, b_proj)\n",
    "    solver.factorize()\n",
    "    if u is None:\n",
    "        u = dolfin.Function(V)\n",
    "        solver.solve_local_rhs(u)\n",
    "        return u\n",
    "    else:\n",
    "        solver.solve_local_rhs(u)\n",
    "        return"
   ]
  },
  {
   "cell_type": "code",
   "execution_count": null,
   "metadata": {},
   "outputs": [],
   "source": [
    "I2 = dolfin.Identity(dim)\n",
    "\n",
    "def stress_strain(eps):\n",
    "    return lambda_*dolfin.tr(eps)*I2+2.*mu*eps\n",
    "\n",
    "def strain_displacement(u):\n",
    "    return dolfin.sym(dolfin.grad(u))\n",
    "\n",
    "def mass(u, v):\n",
    "    return rho*dolfin.inner(u, v)*dx\n",
    "\n",
    "def stiffness(u, v):\n",
    "    return dolfin.inner(stress_strain(strain_displacement(u)),\n",
    "                        strain_displacement(v))*dx\n",
    "\n",
    "def damping(u, v):\n",
    "    return eta_m*mass(u, v)+eta_k*stiffness(u, v)\n",
    "\n",
    "def p_ext(u):\n",
    "    return dolfin.dot(u, traction)*ds(boundary_indices[\"right\"])"
   ]
  },
  {
   "cell_type": "code",
   "execution_count": null,
   "metadata": {},
   "outputs": [],
   "source": [
    "u = dolfin.TrialFunction(V)\n",
    "v = dolfin.TestFunction(V)\n",
    "\n",
    "C = dolfin.assemble(damping(u, v))\n",
    "K = dolfin.assemble(stiffness(u, v))\n",
    "\n",
    "for bc in bcs:\n",
    "    bc.apply(C)\n",
    "    bc.apply(K)"
   ]
  },
  {
   "cell_type": "markdown",
   "metadata": {},
   "source": [
    "The mass matrix is modified as follows\n",
    "\\begin{equation*}\n",
    "M\\leftarrow M+\\gamma\\Delta t\\,C+\\beta\\Delta t^2\\,K.\n",
    "\\end{equation*}\n",
    "\n",
    "**Question:** why did we do that?\n",
    "\n",
    "The cell below computes the modified mass matrix and defines the function `compute_acceleration(f, a)` that performs the operation: `a ← M⁻¹⋅f`, where `a` and `f` are two vectors.\n",
    "\n",
    "**Note:** for the computation of the lumped mass matrix, we use the function [`dolfin.action`](https://fenics.readthedocs.io/projects/ufl/en/latest/manual/form_language.html#action-of-a-form-on-a-function)."
   ]
  },
  {
   "cell_type": "code",
   "execution_count": null,
   "metadata": {},
   "outputs": [],
   "source": [
    "one_half = dolfin.Constant(0.5)\n",
    "\n",
    "if use_lumped_mass:\n",
    "    # Compute the sum of the rows of the mass matrix\n",
    "    m = mass(u, v)+one_half*dt*damping(u, v)\n",
    "    ones = dolfin.Constant(dim*(1.,))\n",
    "    M_lumped = dolfin.assemble(dolfin.action(m, ones))\n",
    "    M_lumped_inv = 1./M_lumped.get_local()\n",
    "    \n",
    "    def compute_acceleration(f_vec, a_vec):\n",
    "        a_vec[:] = M_lumped_inv*f[:]\n",
    "        for bc in bcs:\n",
    "            bc.apply(a_vec)\n",
    "        \n",
    "else:\n",
    "    M = dolfin.assemble(mass(u, v))\n",
    "    M += gamma*dt*C\n",
    "    M += beta*dt**2*K\n",
    "    for bc in bcs:\n",
    "        bc.apply(M)\n",
    "    solver = dolfin.LUSolver(M)\n",
    "    \n",
    "    def compute_acceleration(f_vec, a_vec):\n",
    "        solver.solve(a_vec, f_vec)"
   ]
  },
  {
   "cell_type": "markdown",
   "metadata": {},
   "source": [
    "## Time discretization"
   ]
  },
  {
   "cell_type": "code",
   "execution_count": null,
   "metadata": {},
   "outputs": [],
   "source": [
    "num_functions = 5\n",
    "functions = [dolfin.Function(V) for i in range(num_functions)]\n",
    "u, v, a, Ku, Cv = functions\n",
    "u_vec, v_vec, a_vec, Ku_vec, Cv_vec = [func.vector() for func in functions]"
   ]
  },
  {
   "cell_type": "code",
   "execution_count": null,
   "metadata": {},
   "outputs": [],
   "source": [
    "coords_tip = p2.array()[:dim]\n",
    "coords_tip[1:] *= 0.5\n",
    "\n",
    "times = dt*np.arange(num_steps+1, dtype=np.float64)\n",
    "displ_tip = np.zeros_like(times)\n",
    "\n",
    "energies = np.zeros((num_steps+1, 4), dtype=np.float64)\n",
    "E_damp = 0\n",
    "E_ext = 0\n",
    "\n",
    "sig = dolfin.Function(Vsig, name=\"sigma\")\n",
    "xdmf_file = dolfin.XDMFFile(\"elastodynamics-results.xdmf\")\n",
    "xdmf_file.parameters[\"flush_output\"] = True\n",
    "xdmf_file.parameters[\"functions_share_mesh\"] = True\n",
    "xdmf_file.parameters[\"rewrite_function_mesh\"] = False"
   ]
  },
  {
   "cell_type": "markdown",
   "metadata": {},
   "source": [
    "**Question:** in the cell below:\n",
    "\n",
    "- update `u_vec` and `v_vec` (predictor step)\n",
    "- compute `f_vec`, which is the vector of (external + internal) nodal forces (the present code computes the external part only)\n",
    "- update `u_vec` and `v_vec` (corrector step)\n",
    "\n",
    "**Hint 1:** use the function `y.axpy(α, x)` to perform the operation `y ← α⋅x + y`, where `x` and `y` are two vectors and `α` is a scalar.\n",
    "\n",
    "**Hint 2:** use the function `M.mult(x, y)` to perform the operation `y ← M⋅x`, where `x` and `y` are two vectors and `M` is a matrix."
   ]
  },
  {
   "cell_type": "code",
   "execution_count": null,
   "metadata": {},
   "outputs": [],
   "source": [
    "u_vec.zero()\n",
    "v_vec.zero()\n",
    "a_vec.zero()\n",
    "Ku_vec.zero()\n",
    "\n",
    "time_solve = 0.\n",
    "\n",
    "for n in range(num_steps):\n",
    "    # Predictor step\n",
    "    raise RuntimeError(\"update u_vec and v_vec (predictor step)\")\n",
    "\n",
    "    # Update acceleration\n",
    "    traction.t = (n+1)*dt\n",
    "    f = dolfin.assemble(p_ext(dolfin.TestFunction(V)))\n",
    "    \n",
    "    raise RuntimeError(\"add contribution of internal forces to f\")\n",
    "    \n",
    "    for bc in bcs:\n",
    "        bc.apply(f)\n",
    "    \n",
    "    t1 = time.perf_counter()\n",
    "    compute_acceleration(f, a_vec)\n",
    "    t2 = time.perf_counter()\n",
    "    time_solve += t2-t1\n",
    "    \n",
    "    # Corrector step\n",
    "    raise RuntimeError(\"update u_vec and v_vec (corrector step)\")\n",
    "    \n",
    "    displ_tip[n+1] = u(*coords_tip)[T_dir]\n",
    "    \n",
    "    E_elas = dolfin.assemble(0.5*stiffness(u, u))\n",
    "    E_kin = dolfin.assemble(0.5*mass(v, v))\n",
    "    E_damp += dt*dolfin.assemble(damping(v, v))\n",
    "    E_tot = E_elas+E_kin+E_damp\n",
    "    energies[n+1, :] = np.array([E_elas, E_kin, E_damp, E_tot])\n",
    "    \n",
    "    local_project(stress_strain(strain_displacement(u)), Vsig, sig)\n",
    "\n",
    "    # Save solution to XDMF format\n",
    "    xdmf_file.write(u, n)\n",
    "    xdmf_file.write(sig, n)\n",
    "\n",
    "print(time_solve)"
   ]
  },
  {
   "cell_type": "code",
   "execution_count": null,
   "metadata": {},
   "outputs": [],
   "source": [
    "dolfin.plot(u, mode=\"displacement\")"
   ]
  },
  {
   "cell_type": "code",
   "execution_count": null,
   "metadata": {
    "scrolled": false
   },
   "outputs": [],
   "source": [
    "plt.figure()\n",
    "plt.plot(times, displ_tip, '-')\n",
    "plt.xlabel(\"Time\")\n",
    "plt.ylabel(\"Tip displacement\")\n",
    "plt.savefig(\"tip_displacement.png\")"
   ]
  },
  {
   "cell_type": "code",
   "execution_count": null,
   "metadata": {},
   "outputs": [],
   "source": [
    "plt.figure()\n",
    "plt.plot(times, energies)\n",
    "plt.legend((\"elastic\", \"kinetic\", \"damping\", \"total\"))\n",
    "plt.xlabel(\"Time\")\n",
    "plt.ylabel(\"Energies\")\n",
    "plt.show()"
   ]
  }
 ],
 "metadata": {
  "kernelspec": {
   "display_name": "Python 3",
   "language": "python",
   "name": "python3"
  },
  "language_info": {
   "codemirror_mode": {
    "name": "ipython",
    "version": 3
   },
   "file_extension": ".py",
   "mimetype": "text/x-python",
   "name": "python",
   "nbconvert_exporter": "python",
   "pygments_lexer": "ipython3",
   "version": "3.7.8"
  }
 },
 "nbformat": 4,
 "nbformat_minor": 4
}
