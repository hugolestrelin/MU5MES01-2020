{
 "cells": [
  {
   "cell_type": "markdown",
   "metadata": {},
   "source": [
    "# Implementation of a Newton–Raphson solver for nonlinear elasticity"
   ]
  },
  {
   "cell_type": "markdown",
   "metadata": {},
   "source": [
    "In this notebook, we will analyse the same problem as in the previous notebook [Hyperelastic.ipynb](Hyperelastic.ipynb). However, this time, we will implement or own Newton–Raphson solver, rather than rely on FEniCS's `NonlinearVariationalSolver`."
   ]
  },
  {
   "cell_type": "markdown",
   "metadata": {},
   "source": [
    "## Setting up the problem"
   ]
  },
  {
   "cell_type": "markdown",
   "metadata": {},
   "source": [
    "The code below is merely a copy/paste of the code from the previous sessions, as we use the same problem to illustrate the implementation of the Newton–Raphson iterations"
   ]
  },
  {
   "cell_type": "markdown",
   "metadata": {},
   "source": [
    "We first import and setup the usual modules."
   ]
  },
  {
   "cell_type": "code",
   "execution_count": null,
   "metadata": {},
   "outputs": [],
   "source": [
    "import dolfin\n",
    "import ufl\n",
    "import numpy as np\n",
    "import matplotlib.pyplot as plt\n",
    "import os.path\n",
    "\n",
    "%matplotlib inline\n",
    "\n",
    "dolfin.parameters[\"form_compiler\"][\"cpp_optimize\"] = True\n",
    "dolfin.parameters[\"form_compiler\"][\"representation\"] = \"uflacs\"\n",
    "plt.style.use(\"seaborn-notebook\")"
   ]
  },
  {
   "cell_type": "markdown",
   "metadata": {},
   "source": [
    "### Parameters of the simulation"
   ]
  },
  {
   "cell_type": "markdown",
   "metadata": {},
   "source": [
    "Place here the parameters that can be changed without altering the logics of the code."
   ]
  },
  {
   "cell_type": "code",
   "execution_count": null,
   "metadata": {},
   "outputs": [],
   "source": [
    "Lx, Ly = 1.0, 0.1 # Dimensions of the beam\n",
    "nx, ny = 20, 5 # Number of elements in each direction\n",
    "Y, nu = 1e3, 0.3 # Young modulus and Poisson ratio\n",
    "load_min, load_max, nsteps = 0.0, 0.3, 40 # Loading schedule\n",
    "degree = 2\n",
    "\n",
    "output_dir = \"nr_output\""
   ]
  },
  {
   "cell_type": "markdown",
   "metadata": {},
   "source": [
    "You should not alter the cell below"
   ]
  },
  {
   "cell_type": "code",
   "execution_count": null,
   "metadata": {},
   "outputs": [],
   "source": [
    "loads = np.linspace(load_min, load_max,nsteps)\n",
    "\n",
    "mu = dolfin.Constant(Y/(2*(1 + nu)))\n",
    "lmbda = dolfin.Constant(Y*nu/((1 + nu)*(1 - 2*nu)))\n",
    "lmbda = 2*lmbda*mu/(lmbda + 2*mu) "
   ]
  },
  {
   "cell_type": "markdown",
   "metadata": {},
   "source": [
    "### Mesh"
   ]
  },
  {
   "cell_type": "code",
   "execution_count": null,
   "metadata": {},
   "outputs": [],
   "source": [
    "mesh = dolfin.RectangleMesh(dolfin.Point(0,0),\n",
    "                            dolfin.Point(Lx,Ly),\n",
    "                            nx, ny)\n",
    "left = dolfin.CompiledSubDomain(\"near(x[0],0) && on_boundary\")\n",
    "right = dolfin.CompiledSubDomain(\"near(x[0],Lx) && on_boundary\", Lx=Lx)\n",
    "\n",
    "boundary_markers = dolfin.MeshFunction(\"size_t\", mesh, 1, 0)\n",
    "boundary_indices = {\"left\": 1, \"right\": 2}\n",
    "left.mark(boundary_markers, boundary_indices[\"left\"])\n",
    "right.mark(boundary_markers, boundary_indices[\"right\"])\n",
    "\n",
    "ds = dolfin.ds(domain=mesh,subdomain_data=boundary_markers)\n",
    "dx = dolfin.dx(domain=mesh)"
   ]
  },
  {
   "cell_type": "markdown",
   "metadata": {},
   "source": [
    "### Function space"
   ]
  },
  {
   "cell_type": "code",
   "execution_count": null,
   "metadata": {},
   "outputs": [],
   "source": [
    "V_element = dolfin.VectorElement(\"CG\", mesh.ufl_cell(), degree=degree) \n",
    "V = dolfin.FunctionSpace(mesh, V_element)\n",
    "u = dolfin.Function(V, name=\"u\")"
   ]
  },
  {
   "cell_type": "markdown",
   "metadata": {},
   "source": [
    "### Potential energy"
   ]
  },
  {
   "cell_type": "markdown",
   "metadata": {},
   "source": [
    "We first define the strain energy of a (compressible) neo-Hookean material."
   ]
  },
  {
   "cell_type": "code",
   "execution_count": null,
   "metadata": {},
   "outputs": [],
   "source": [
    "I = ufl.Identity(2)    \n",
    "F = ufl.variable(I+ufl.grad(u))  \n",
    "C = F.T*F                   \n",
    "Ic = ufl.tr(C)\n",
    "J  = ufl.det(F)\n",
    "E = 1/2*(C-I)\n",
    "\n",
    "psi = (mu/2)*(Ic-2)-mu*ufl.ln(J)+(lmbda/2)*(ufl.ln(J))**2"
   ]
  },
  {
   "cell_type": "markdown",
   "metadata": {},
   "source": [
    "We then define the loading (body forces $\\mathbf{B}$)."
   ]
  },
  {
   "cell_type": "code",
   "execution_count": null,
   "metadata": {},
   "outputs": [],
   "source": [
    "B = dolfin.Expression((\"0.0\", \"mu*t\"), t=0, mu=mu, degree=0)\n",
    "T = mu*dolfin.Constant((0.0, 0.0))"
   ]
  },
  {
   "cell_type": "markdown",
   "metadata": {},
   "source": [
    "We can now define the potential energy and its derivatives w.r.t the displacement $\\mathbf{u}$."
   ]
  },
  {
   "cell_type": "code",
   "execution_count": null,
   "metadata": {},
   "outputs": [],
   "source": [
    "potential_energy = psi*dx-ufl.dot(B, u)*dx-ufl.dot(T, u)*ds(boundary_indices['right'])\n",
    "residual = ufl.derivative(potential_energy, u, dolfin.TestFunction(V))\n",
    "jacobian = ufl.derivative(residual, u, dolfin.TrialFunction(V))"
   ]
  },
  {
   "cell_type": "markdown",
   "metadata": {},
   "source": [
    "Boundary conditions for a built-in support on the left-hand side."
   ]
  },
  {
   "cell_type": "code",
   "execution_count": null,
   "metadata": {},
   "outputs": [],
   "source": [
    "bcs = [dolfin.DirichletBC(V, (0.,0.), left)]"
   ]
  },
  {
   "cell_type": "markdown",
   "metadata": {},
   "source": [
    "### Computing the reference solution"
   ]
  },
  {
   "cell_type": "markdown",
   "metadata": {},
   "source": [
    "We use the built-in non-linear solver to compute a reference solution, which we will compare to the solution computed with our own NR solver."
   ]
  },
  {
   "cell_type": "code",
   "execution_count": null,
   "metadata": {},
   "outputs": [],
   "source": [
    "problem = dolfin.NonlinearVariationalProblem(residual, u, bcs=bcs, J=jacobian)\n",
    "solver = dolfin.NonlinearVariationalSolver(problem)\n",
    "displ_ref = np.zeros_like(loads)\n",
    "u.interpolate(dolfin.Constant((0., 0.)))\n",
    "file_u = dolfin.XDMFFile(os.path.join(output_dir, \"u_ref.xdmf\"))\n",
    "file_u.parameters.update({\"flush_output\":True,\n",
    "                          \"functions_share_mesh\":True,\n",
    "                          \"rewrite_function_mesh\":False})\n",
    "for (i, t) in enumerate(loads):\n",
    "    B.t = -t\n",
    "    solver.solve()\n",
    "    displ_ref[i] = dolfin.assemble(u[1]*ds(boundary_indices[\"right\"]))/Ly \n",
    "    #print(\"t={:+3.3f}, u={:+3.3f}\".format(t,displ_ref[i]))\n",
    "    with file_u as file:\n",
    "        file.write(u,t)\n",
    "plt.plot(loads,displ_ref, \"o\")\n",
    "plt.xlabel(\"load\")\n",
    "plt.ylabel(\"end-displacement\")"
   ]
  },
  {
   "cell_type": "markdown",
   "metadata": {},
   "source": [
    "## Implementation of the Newton–Raphson solver"
   ]
  },
  {
   "cell_type": "markdown",
   "metadata": {},
   "source": [
    "We will discuss the statement below in class."
   ]
  },
  {
   "cell_type": "code",
   "execution_count": null,
   "metadata": {},
   "outputs": [],
   "source": [
    "bcs_h = bcs"
   ]
  },
  {
   "cell_type": "code",
   "execution_count": null,
   "metadata": {},
   "outputs": [],
   "source": [
    "def simple_monitor(iteration, u, norm_u, norm_delta_u, norm_residual):\n",
    "    print(\"Iteration: {:3d}, Error: {:3.4e}, Residual: {:3.4e}\".format(iteration, norm_delta_u, norm_residual))\n",
    "        \n",
    "def plot_monitor(iteration, u, norm_u, norm_delta_u, norm_residual):\n",
    "    simple_monitor(iteration, u, norm_u, norm_delta_u, norm_residual)\n",
    "    plt.figure()\n",
    "    dolfin.plot(u, mode=\"displacement\") \n",
    "\n",
    "def newton_solver(u, max_iter=100, rtol=1e-6, atol=1e-6, monitor=None):\n",
    "    delta_u = dolfin.Function(V)\n",
    "    delta_u.interpolate(dolfin.Constant((0., 0.)))\n",
    "    for k in range(max_iter):\n",
    "        # Solve the linearized problem for the increment delta_u with homogenous BCs\n",
    "        linear_problem = dolfin.LinearVariationalProblem(jacobian, -residual, delta_u, bcs_h)\n",
    "        linear_solver = dolfin.LinearVariationalSolver(linear_problem)\n",
    "        linear_solver.solve()\n",
    "        # Update the solution\n",
    "        u.assign(u+delta_u)\n",
    "        # Stopping criterion based on the L2 norm of u and delta_u\n",
    "        norm_delta_u = dolfin.norm(delta_u, \"L2\")\n",
    "        norm_u = dolfin.norm(u, \"L2\")\n",
    "        R_vec = dolfin.assemble(residual)\n",
    "        for bc in bcs_h:\n",
    "            bc.apply(R_vec)\n",
    "        norm_residual = dolfin.norm(R_vec, \"L2\")\n",
    "        if monitor is not None:\n",
    "            monitor(k, u, norm_u, norm_delta_u, norm_residual)\n",
    "        if norm_delta_u <= rtol*norm_u+atol:\n",
    "            break\n",
    "    else:\n",
    "        # See for-else statement:\n",
    "        # https://book.pythontips.com/en/latest/for_-_else.html#else-clause\n",
    "        # This block is entered only if the above loop completes,\n",
    "        # which means that the maximum number of iterations has been reached.\n",
    "        raise RuntimeError(\"could not converge, norm_u {}, norm_delta_u {}\".format(norm_u, norm_delta_u)) \n",
    "    return k"
   ]
  },
  {
   "cell_type": "markdown",
   "metadata": {},
   "source": [
    "We are now ready to call our solver, first with a very small load, so that the solution is nearly that of the linear problem, and the algorithm should converge in one iteration."
   ]
  },
  {
   "cell_type": "code",
   "execution_count": null,
   "metadata": {},
   "outputs": [],
   "source": [
    "u.interpolate(dolfin.Constant((0., 0.)))\n",
    "B.t = load_max/1e4\n",
    "newton_solver(u, monitor=simple_monitor)"
   ]
  },
  {
   "cell_type": "markdown",
   "metadata": {},
   "source": [
    "Let's try a slightly higher load. We will plot the estimate of the solution at each iteration. It is interesting to observe the iterates converge to the solution."
   ]
  },
  {
   "cell_type": "code",
   "execution_count": null,
   "metadata": {
    "scrolled": true
   },
   "outputs": [],
   "source": [
    "u.interpolate(dolfin.Constant((0., 0.)))\n",
    "B.t = 2.5*load_max/nsteps\n",
    "newton_solver(u, monitor=plot_monitor)"
   ]
  },
  {
   "cell_type": "markdown",
   "metadata": {},
   "source": [
    "### Illustrating quadratic convergence"
   ]
  },
  {
   "cell_type": "markdown",
   "metadata": {},
   "source": [
    "We now want to verify that the Newton–Raphson iterations converge quadratically, that is $\\epsilon_{n+1} \\leq C\\epsilon_n^2$, where $\\epsilon_n$ denotes the error of the $n$-th iterate. Since we do not know the exact solution of the problem, we will take the last iterate as a reference.\n",
    "\n",
    "We implement a new `monitor` that keeps a copy of each iterate."
   ]
  },
  {
   "cell_type": "code",
   "execution_count": null,
   "metadata": {},
   "outputs": [],
   "source": [
    "iterates = []\n",
    "def my_monitor(iteration, u, u_norm, delta_u_norm, residual_norm):\n",
    "    simple_monitor(iteration, u, u_norm, delta_u_norm, residual_norm)\n",
    "    iterates.append(u.copy(deepcopy=True))\n",
    "\n",
    "u.interpolate(dolfin.Constant((0., 0.)))\n",
    "B.t = 2.5*load_max/nsteps\n",
    "newton_solver(u, monitor=my_monitor, rtol=1e-10, atol=1e-10)"
   ]
  },
  {
   "cell_type": "code",
   "execution_count": null,
   "metadata": {},
   "outputs": [],
   "source": [
    "L2_errors = np.zeros(len(iterates), dtype=np.float64)\n",
    "H1_errors = np.zeros_like(L2_errors)\n",
    "u_ref = iterates[-1]\n",
    "for i, u_i in enumerate(iterates):\n",
    "    L2_errors[i] = dolfin.errornorm(u_ref, u_i, 'L2')\n",
    "    H1_errors[i] = dolfin.errornorm(u_ref, u_i, 'H1')"
   ]
  },
  {
   "cell_type": "code",
   "execution_count": null,
   "metadata": {},
   "outputs": [],
   "source": [
    "plt.xlabel(r'$\\epsilon_n^2$')\n",
    "plt.ylabel(r'$\\epsilon_{n+1}$')\n",
    "\n",
    "plt.loglog(L2_errors[:-2]**2, L2_errors[1:-1], 'o-')\n",
    "plt.loglog(L2_errors[:-2]**2, 100*L2_errors[:-2]**2)"
   ]
  },
  {
   "cell_type": "code",
   "execution_count": null,
   "metadata": {},
   "outputs": [],
   "source": [
    "plt.xlabel(r'$\\epsilon_n^2$')\n",
    "plt.ylabel(r'$\\epsilon_{n+1}$')\n",
    "\n",
    "plt.loglog(H1_errors[:-2]**2, H1_errors[1:-1], 'o-')\n",
    "plt.loglog(H1_errors[:-2]**2, 10*H1_errors[:-2]**2)"
   ]
  },
  {
   "cell_type": "markdown",
   "metadata": {},
   "source": [
    "## Validation of the solver"
   ]
  },
  {
   "cell_type": "markdown",
   "metadata": {},
   "source": [
    "We now run the whole simulation and compare with the reference solution."
   ]
  },
  {
   "cell_type": "code",
   "execution_count": null,
   "metadata": {},
   "outputs": [],
   "source": [
    "displ = np.zeros_like(loads)\n",
    "u.interpolate(dolfin.Constant((0.,0.)))\n",
    "file_u = dolfin.XDMFFile(os.path.join(output_dir, \"u.xdmf\"))\n",
    "file_u.parameters.update({\"flush_output\":True,\n",
    "                          \"functions_share_mesh\":True,\n",
    "                          \"rewrite_function_mesh\":False})\n",
    "for (i, t) in enumerate(loads):\n",
    "    B.t = -t\n",
    "    newton_solver(u)\n",
    "    displ[i] = dolfin.assemble(u[1]*ds(2))/Ly \n",
    "    #print(\"t={:+3.3f}, u={:+3.3f}\".format(t,displ_ref[i]))\n",
    "    with file_u as file:\n",
    "        file.write(u,t)\n",
    "\n",
    "plt.plot(loads, displ_ref, \"-\", label='Reference implementation')\n",
    "plt.plot(loads, displ, 'o', label='Our implementation')\n",
    "plt.xlabel(\"load\")\n",
    "plt.ylabel(\"end-displacement\")\n",
    "plt.legend()"
   ]
  }
 ],
 "metadata": {
  "kernelspec": {
   "display_name": "Python 3",
   "language": "python",
   "name": "python3"
  },
  "language_info": {
   "codemirror_mode": {
    "name": "ipython",
    "version": 3
   },
   "file_extension": ".py",
   "mimetype": "text/x-python",
   "name": "python",
   "nbconvert_exporter": "python",
   "pygments_lexer": "ipython3",
   "version": "3.8.5"
  }
 },
 "nbformat": 4,
 "nbformat_minor": 4
}
